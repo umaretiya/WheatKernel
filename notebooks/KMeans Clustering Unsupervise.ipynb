{
 "cells": [
  {
   "cell_type": "code",
   "execution_count": null,
   "id": "4e9d84b2",
   "metadata": {},
   "outputs": [],
   "source": []
  },
  {
   "cell_type": "code",
   "execution_count": null,
   "id": "cb44c03e",
   "metadata": {},
   "outputs": [],
   "source": []
  },
  {
   "cell_type": "markdown",
   "id": "8ae7c0bd",
   "metadata": {},
   "source": [
    "- 1 Choose the number K of cluser\n",
    "- 2 select at random k points, the centroids\n",
    "- 3 Assign each data point to the closest centroid -> That forms k cluster\n",
    "- 4 Compute and place the new centroid each cluster\n",
    "- 5 Reassing each data point to the new closest centroids,\n",
    "  : if any reassignment took place, go to step 4,otherwise go to fin"
   ]
  },
  {
   "cell_type": "code",
   "execution_count": 9,
   "id": "56bdc44a",
   "metadata": {
    "scrolled": true
   },
   "outputs": [
    {
     "name": "stdout",
     "output_type": "stream",
     "text": [
      "<class 'pandas.core.frame.DataFrame'>\n",
      "RangeIndex: 210 entries, 0 to 209\n",
      "Data columns (total 7 columns):\n",
      " #   Column                Non-Null Count  Dtype  \n",
      "---  ------                --------------  -----  \n",
      " 0   area                  210 non-null    float64\n",
      " 1   perimeter             210 non-null    float64\n",
      " 2   compactness           210 non-null    float64\n",
      " 3   kernel_length         210 non-null    float64\n",
      " 4   kernel_width          210 non-null    float64\n",
      " 5   coeff_asymmetry       210 non-null    float64\n",
      " 6   kernel_groove_length  210 non-null    float64\n",
      "dtypes: float64(7)\n",
      "memory usage: 11.6 KB\n"
     ]
    }
   ],
   "source": [
    "import os\n",
    "file = \"D:\\\\PycharmProjects\\\\DS_ML_Self\\\\WheatKernel\\\\notebooks\\\\WheatKernal.csv\"\n",
    "file_path = os.path.join(file)\n",
    "\n",
    "import pandas as pd\n",
    "import numpy as np\n",
    "df = pd.read_csv(file_path)\n",
    "df = df.drop('target',axis=1)\n",
    "df.info()"
   ]
  },
  {
   "cell_type": "code",
   "execution_count": 10,
   "id": "12d28588",
   "metadata": {},
   "outputs": [
    {
     "data": {
      "text/html": [
       "<div>\n",
       "<style scoped>\n",
       "    .dataframe tbody tr th:only-of-type {\n",
       "        vertical-align: middle;\n",
       "    }\n",
       "\n",
       "    .dataframe tbody tr th {\n",
       "        vertical-align: top;\n",
       "    }\n",
       "\n",
       "    .dataframe thead th {\n",
       "        text-align: right;\n",
       "    }\n",
       "</style>\n",
       "<table border=\"1\" class=\"dataframe\">\n",
       "  <thead>\n",
       "    <tr style=\"text-align: right;\">\n",
       "      <th></th>\n",
       "      <th>area</th>\n",
       "      <th>perimeter</th>\n",
       "      <th>compactness</th>\n",
       "      <th>kernel_length</th>\n",
       "      <th>kernel_width</th>\n",
       "      <th>coeff_asymmetry</th>\n",
       "      <th>kernel_groove_length</th>\n",
       "    </tr>\n",
       "  </thead>\n",
       "  <tbody>\n",
       "    <tr>\n",
       "      <th>0</th>\n",
       "      <td>15.26</td>\n",
       "      <td>14.84</td>\n",
       "      <td>0.8710</td>\n",
       "      <td>5.763</td>\n",
       "      <td>3.312</td>\n",
       "      <td>2.221</td>\n",
       "      <td>5.220</td>\n",
       "    </tr>\n",
       "    <tr>\n",
       "      <th>1</th>\n",
       "      <td>14.88</td>\n",
       "      <td>14.57</td>\n",
       "      <td>0.8811</td>\n",
       "      <td>5.554</td>\n",
       "      <td>3.333</td>\n",
       "      <td>1.018</td>\n",
       "      <td>4.956</td>\n",
       "    </tr>\n",
       "    <tr>\n",
       "      <th>2</th>\n",
       "      <td>14.29</td>\n",
       "      <td>14.09</td>\n",
       "      <td>0.9050</td>\n",
       "      <td>5.291</td>\n",
       "      <td>3.337</td>\n",
       "      <td>2.699</td>\n",
       "      <td>4.825</td>\n",
       "    </tr>\n",
       "    <tr>\n",
       "      <th>3</th>\n",
       "      <td>13.84</td>\n",
       "      <td>13.94</td>\n",
       "      <td>0.8955</td>\n",
       "      <td>5.324</td>\n",
       "      <td>3.379</td>\n",
       "      <td>2.259</td>\n",
       "      <td>4.805</td>\n",
       "    </tr>\n",
       "    <tr>\n",
       "      <th>4</th>\n",
       "      <td>16.14</td>\n",
       "      <td>14.99</td>\n",
       "      <td>0.9034</td>\n",
       "      <td>5.658</td>\n",
       "      <td>3.562</td>\n",
       "      <td>1.355</td>\n",
       "      <td>5.175</td>\n",
       "    </tr>\n",
       "  </tbody>\n",
       "</table>\n",
       "</div>"
      ],
      "text/plain": [
       "    area  perimeter  compactness  kernel_length  kernel_width  \\\n",
       "0  15.26      14.84       0.8710          5.763         3.312   \n",
       "1  14.88      14.57       0.8811          5.554         3.333   \n",
       "2  14.29      14.09       0.9050          5.291         3.337   \n",
       "3  13.84      13.94       0.8955          5.324         3.379   \n",
       "4  16.14      14.99       0.9034          5.658         3.562   \n",
       "\n",
       "   coeff_asymmetry  kernel_groove_length  \n",
       "0            2.221                 5.220  \n",
       "1            1.018                 4.956  \n",
       "2            2.699                 4.825  \n",
       "3            2.259                 4.805  \n",
       "4            1.355                 5.175  "
      ]
     },
     "execution_count": 10,
     "metadata": {},
     "output_type": "execute_result"
    }
   ],
   "source": [
    "df.head()"
   ]
  },
  {
   "cell_type": "code",
   "execution_count": 12,
   "id": "2243b0ec",
   "metadata": {},
   "outputs": [],
   "source": [
    "import matplotlib.pyplot as plt\n",
    "import seaborn as sns"
   ]
  },
  {
   "cell_type": "code",
   "execution_count": 47,
   "id": "4e3fe110",
   "metadata": {},
   "outputs": [],
   "source": [
    "X = df.iloc[:, [0, 5, 6]].values"
   ]
  },
  {
   "cell_type": "code",
   "execution_count": 19,
   "id": "13d7d4b7",
   "metadata": {},
   "outputs": [],
   "source": [
    "from sklearn.cluster import KMeans"
   ]
  },
  {
   "cell_type": "code",
   "execution_count": 20,
   "id": "9f096e1a",
   "metadata": {},
   "outputs": [
    {
     "data": {
      "image/png": "[encoded data removed]",
      "text/plain": [
       "<Figure size 432x288 with 1 Axes>"
      ]
     },
     "metadata": {
      "needs_background": "light"
     },
     "output_type": "display_data"
    }
   ],
   "source": [
    "wcss = []\n",
    "for i in range(1, 11):\n",
    "    kmeans = KMeans(n_clusters=i, init=\"k-means++\")\n",
    "    kmeans.fit(X)\n",
    "    wcss.append(kmeans.inertia_)\n",
    "    \n",
    "plt.plot(range(1, 11), wcss)\n",
    "plt.title(\"The Elbow Method\")\n",
    "plt.xlabel(\"Numbers of Cluster\")\n",
    "plt.ylabel(\"WCSS\")\n",
    "plt.show()"
   ]
  },
  {
   "cell_type": "code",
   "execution_count": 24,
   "id": "d43184e9",
   "metadata": {},
   "outputs": [
    {
     "data": {
      "text/plain": [
       "array([1, 1, 1, 1, 1, 1, 1, 1, 1, 1, 1, 1, 1, 1, 1, 1, 2, 1, 1, 2, 1, 1,\n",
       "       1, 1, 1, 1, 1, 1, 1, 1, 1, 1, 1, 1, 1, 1, 1, 0, 1, 2, 1, 1, 1, 1,\n",
       "       1, 1, 1, 1, 1, 1, 1, 1, 1, 1, 1, 1, 1, 1, 1, 1, 2, 2, 2, 2, 1, 1,\n",
       "       1, 1, 1, 2, 0, 0, 0, 0, 0, 0, 0, 0, 0, 0, 0, 0, 0, 0, 0, 0, 0, 0,\n",
       "       0, 0, 0, 0, 0, 0, 0, 0, 0, 0, 0, 0, 0, 0, 0, 0, 0, 0, 0, 0, 0, 0,\n",
       "       0, 0, 0, 0, 0, 0, 0, 0, 0, 0, 0, 0, 1, 0, 1, 0, 0, 0, 0, 0, 0, 0,\n",
       "       1, 1, 1, 1, 0, 1, 1, 1, 2, 2, 2, 2, 2, 2, 2, 2, 2, 2, 2, 2, 2, 2,\n",
       "       2, 2, 2, 2, 2, 2, 2, 2, 2, 2, 2, 1, 2, 2, 2, 2, 2, 2, 2, 2, 2, 2,\n",
       "       2, 2, 2, 1, 2, 2, 2, 2, 2, 2, 2, 2, 2, 2, 2, 2, 2, 2, 2, 2, 2, 2,\n",
       "       2, 1, 2, 1, 2, 2, 2, 2, 2, 2, 2, 2])"
      ]
     },
     "execution_count": 24,
     "metadata": {},
     "output_type": "execute_result"
    }
   ],
   "source": [
    "kmeans_3n = KMeans(n_clusters=3, init='k-means++')\n",
    "y_3n = kmeans_3n.fit_predict(X)\n",
    "y_3n"
   ]
  },
  {
   "cell_type": "code",
   "execution_count": 23,
   "id": "24ebcd37",
   "metadata": {},
   "outputs": [
    {
     "data": {
      "text/plain": [
       "array([2, 2, 2, 2, 2, 2, 2, 2, 3, 3, 3, 2, 2, 2, 2, 3, 0, 2, 2, 0, 2, 2,\n",
       "       2, 2, 2, 2, 2, 2, 2, 2, 2, 3, 2, 2, 2, 3, 3, 3, 2, 0, 2, 2, 2, 3,\n",
       "       2, 2, 2, 2, 2, 2, 2, 3, 3, 2, 2, 2, 2, 2, 2, 2, 0, 0, 0, 0, 2, 2,\n",
       "       2, 2, 2, 0, 3, 3, 3, 1, 3, 3, 3, 1, 1, 3, 3, 1, 1, 1, 1, 1, 1, 1,\n",
       "       1, 1, 1, 1, 1, 1, 1, 3, 1, 1, 1, 1, 3, 1, 1, 1, 1, 1, 1, 3, 1, 1,\n",
       "       1, 1, 1, 1, 1, 1, 1, 1, 1, 1, 1, 1, 3, 1, 3, 1, 1, 1, 1, 3, 1, 1,\n",
       "       3, 3, 3, 3, 3, 3, 3, 3, 0, 0, 0, 0, 0, 0, 2, 0, 2, 0, 0, 0, 0, 0,\n",
       "       0, 0, 0, 0, 0, 0, 2, 0, 0, 0, 0, 2, 0, 0, 0, 0, 0, 0, 0, 0, 0, 0,\n",
       "       0, 0, 0, 2, 0, 0, 0, 0, 0, 0, 0, 0, 0, 0, 0, 0, 0, 0, 0, 0, 0, 0,\n",
       "       2, 2, 0, 2, 0, 0, 0, 0, 0, 0, 0, 0])"
      ]
     },
     "execution_count": 23,
     "metadata": {},
     "output_type": "execute_result"
    }
   ],
   "source": [
    "kmeans_4n = KMeans(n_clusters=4, init='k-means++')\n",
    "y_4n = kmeans_4n.fit_predict(X)\n",
    "y_4n"
   ]
  },
  {
   "cell_type": "code",
   "execution_count": 25,
   "id": "a6ed40d1",
   "metadata": {},
   "outputs": [
    {
     "data": {
      "text/plain": [
       "array([[18.68451613,  3.61348387,  6.05887097],\n",
       "       [14.5427027 ,  2.63389459,  5.17486486],\n",
       "       [11.93756757,  4.83916216,  5.09601351]])"
      ]
     },
     "execution_count": 25,
     "metadata": {},
     "output_type": "execute_result"
    }
   ],
   "source": [
    "kmeans_3n.cluster_centers_"
   ]
  },
  {
   "cell_type": "code",
   "execution_count": 26,
   "id": "c03083e3",
   "metadata": {},
   "outputs": [
    {
     "data": {
      "text/plain": [
       "array([[11.91557143,  4.94612857,  5.08478571],\n",
       "       [19.15104167,  3.46041667,  6.12725   ],\n",
       "       [14.01542373,  2.32303729,  5.069     ],\n",
       "       [16.29484848,  3.86830303,  5.6539697 ]])"
      ]
     },
     "execution_count": 26,
     "metadata": {},
     "output_type": "execute_result"
    }
   ],
   "source": [
    "kmeans_4n.cluster_centers_"
   ]
  },
  {
   "cell_type": "code",
   "execution_count": 37,
   "id": "39552c63",
   "metadata": {},
   "outputs": [
    {
     "data": {
      "text/plain": [
       "Text(0, 0.5, 'Coefficient Assymetry')"
      ]
     },
     "execution_count": 37,
     "metadata": {},
     "output_type": "execute_result"
    },
    {
     "data": {
      "image/png": "[encoded data removed]",
      "text/plain": [
       "<Figure size 432x288 with 1 Axes>"
      ]
     },
     "metadata": {
      "needs_background": "light"
     },
     "output_type": "display_data"
    }
   ],
   "source": [
    "kmeans_3n.cluster_centers_[:,0]\n",
    "\n",
    "plt.scatter(X[y_3n==0,0], X[y_3n==0, 1], s=50, c='red', label='cluster1')\n",
    "plt.scatter(X[y_3n==1,0], X[y_3n==1, 1], s=50, c='blue', label='cluster2')\n",
    "plt.scatter(X[y_3n==2,0], X[y_3n==2, 1], s=50, c='cyan', label='cluster1')\n",
    "\n",
    "plt.scatter(kmeans_3n.cluster_centers_[:,0], kmeans_3n.cluster_centers_[:,1], s=200, c='yellow',label=\"centroid\")\n",
    "\n",
    "plt.title(\"Clusters of Wheat Kernel\")\n",
    "plt.xlabel(\"Area\")\n",
    "plt.ylabel(\"Coefficient Assymetry\")\n",
    "# \"kernel_groove_length\""
   ]
  },
  {
   "cell_type": "code",
   "execution_count": 39,
   "id": "9d11fda9",
   "metadata": {},
   "outputs": [
    {
     "data": {
      "text/plain": [
       "Text(0, 0.5, 'kernel_groove_length')"
      ]
     },
     "execution_count": 39,
     "metadata": {},
     "output_type": "execute_result"
    },
    {
     "data": {
      "image/png": "[encoded data removed]",
      "text/plain": [
       "<Figure size 432x288 with 1 Axes>"
      ]
     },
     "metadata": {
      "needs_background": "light"
     },
     "output_type": "display_data"
    }
   ],
   "source": [
    "kmeans_3n.cluster_centers_[:,0]\n",
    "\n",
    "plt.scatter(X[y_3n==0,0], X[y_3n==0, 2], s=50, c='red', label='cluster1')\n",
    "plt.scatter(X[y_3n==1,0], X[y_3n==1, 2], s=50, c='blue', label='cluster2')\n",
    "plt.scatter(X[y_3n==2,0], X[y_3n==2, 2], s=50, c='cyan', label='cluster1')\n",
    "\n",
    "plt.scatter(kmeans_3n.cluster_centers_[:,0], kmeans_3n.cluster_centers_[:,2], s=200, c='yellow',label=\"centroid\")\n",
    "\n",
    "plt.title(\"Clusters of Wheat Kernel\")\n",
    "plt.xlabel(\"Area\")\n",
    "plt.ylabel(\"kernel_groove_length\")"
   ]
  },
  {
   "cell_type": "code",
   "execution_count": 42,
   "id": "5e3d5ce7",
   "metadata": {},
   "outputs": [
    {
     "data": {
      "text/plain": [
       "<matplotlib.collections.PathCollection at 0x29ca6073430>"
      ]
     },
     "execution_count": 42,
     "metadata": {},
     "output_type": "execute_result"
    },
    {
     "data": {
      "image/png": "[encoded data removed]",
      "text/plain": [
       "<Figure size 432x288 with 1 Axes>"
      ]
     },
     "metadata": {
      "needs_background": "light"
     },
     "output_type": "display_data"
    }
   ],
   "source": [
    "kmeans_4n.cluster_centers_[:,0]\n",
    "\n",
    "plt.scatter(X[y_4n==0,0], X[y_4n==0, 1], s=50, c='red', label='cluster1')\n",
    "plt.scatter(X[y_4n==1,0], X[y_4n==1, 1], s=50, c='blue', label='cluster2')\n",
    "plt.scatter(X[y_4n==2,0], X[y_4n==2, 1], s=50, c='cyan', label='cluster3')\n",
    "plt.scatter(X[y_4n==3,0], X[y_4n==3, 1], s=50, c='yellow', label='cluster4')\n",
    "\n",
    "plt.scatter(kmeans_4n.cluster_centers_[:,0], kmeans_4n.cluster_centers_[:,1], s=200, c='green',label=\"centroid\")"
   ]
  },
  {
   "cell_type": "code",
   "execution_count": 44,
   "id": "f59eaffe",
   "metadata": {},
   "outputs": [
    {
     "data": {
      "text/plain": [
       "<matplotlib.collections.PathCollection at 0x29ca615e3d0>"
      ]
     },
     "execution_count": 44,
     "metadata": {},
     "output_type": "execute_result"
    },
    {
     "data": {
      "image/png": "[encoded data removed]",
      "text/plain": [
       "<Figure size 432x288 with 1 Axes>"
      ]
     },
     "metadata": {
      "needs_background": "light"
     },
     "output_type": "display_data"
    }
   ],
   "source": [
    "kmeans_4n.cluster_centers_[:,0]\n",
    "\n",
    "plt.scatter(X[y_4n==0,0], X[y_4n==0, 2], s=50, c='red', label='cluster1')\n",
    "plt.scatter(X[y_4n==1,0], X[y_4n==1, 2], s=50, c='blue', label='cluster2')\n",
    "plt.scatter(X[y_4n==2,0], X[y_4n==2, 2], s=50, c='cyan', label='cluster3')\n",
    "plt.scatter(X[y_4n==3,0], X[y_4n==3, 2], s=50, c='yellow', label='cluster4')\n",
    "\n",
    "plt.scatter(kmeans_4n.cluster_centers_[:,0], kmeans_4n.cluster_centers_[:,2], s=200, c='green',label=\"centroid\")"
   ]
  },
  {
   "cell_type": "code",
   "execution_count": 45,
   "id": "4bfae2c2",
   "metadata": {},
   "outputs": [
    {
     "data": {
      "text/plain": [
       "<matplotlib.collections.PathCollection at 0x29ca61cab50>"
      ]
     },
     "execution_count": 45,
     "metadata": {},
     "output_type": "execute_result"
    },
    {
     "data": {
      "image/png": "[encoded data removed]",
      "text/plain": [
       "<Figure size 432x288 with 1 Axes>"
      ]
     },
     "metadata": {
      "needs_background": "light"
     },
     "output_type": "display_data"
    }
   ],
   "source": [
    "kmeans_4n.cluster_centers_[:,0]\n",
    "\n",
    "plt.scatter(X[y_4n==0,1], X[y_4n==0, 2], s=50, c='red', label='cluster1')\n",
    "plt.scatter(X[y_4n==1,1], X[y_4n==1, 2], s=50, c='blue', label='cluster2')\n",
    "plt.scatter(X[y_4n==2,1], X[y_4n==2, 2], s=50, c='cyan', label='cluster3')\n",
    "plt.scatter(X[y_4n==3,1], X[y_4n==3, 2], s=50, c='yellow', label='cluster4')\n",
    "\n",
    "3plt.scatter(kmeans_4n.cluster_centers_[:,1], kmeans_4n.cluster_centers_[:,2], s=200, c='green',label=\"centroid\")"
   ]
  },
  {
   "cell_type": "markdown",
   "id": "dcd72a88",
   "metadata": {},
   "source": [
    "#### As per above analysis we can conclude that 'Area' and 'Coefficient Assymentry' is best fit for kernel identifications"
   ]
  },
  {
   "cell_type": "markdown",
   "id": "ab1317d3",
   "metadata": {},
   "source": [
    "#### using Features like Area vs coeff_asymmetry and kernel_groove_length"
   ]
  },
  {
   "cell_type": "code",
   "execution_count": 52,
   "id": "fd99ec78",
   "metadata": {},
   "outputs": [],
   "source": [
    "# Lets find score \n",
    "from sklearn.metrics import silhouette_score\n",
    "sil_avg= []\n",
    "for i in range(2, 11):\n",
    "    cluster_model = KMeans(n_clusters=i, init=\"k-means++\")\n",
    "    cluster_labels = cluster_model.fit_predict(X)\n",
    "    sil_avg_score = silhouette_score(X, cluster_labels)\n",
    "    sil_avg.append(sil_avg_score)"
   ]
  },
  {
   "cell_type": "code",
   "execution_count": 53,
   "id": "f00410a6",
   "metadata": {},
   "outputs": [
    {
     "data": {
      "text/plain": [
       "[0.5115974532766332,\n",
       " 0.46805180745586755,\n",
       " 0.41034525886055945,\n",
       " 0.3744845450179229,\n",
       " 0.3775537583875636,\n",
       " 0.3797426658670569,\n",
       " 0.3814690502289047,\n",
       " 0.36558095169869287,\n",
       " 0.3377431741584155]"
      ]
     },
     "execution_count": 53,
     "metadata": {},
     "output_type": "execute_result"
    }
   ],
   "source": [
    "sil_avg"
   ]
  },
  {
   "cell_type": "markdown",
   "id": "7fdc8ecb",
   "metadata": {},
   "source": [
    "## Lets use Gaussian Mixture"
   ]
  },
  {
   "cell_type": "code",
   "execution_count": 54,
   "id": "f6dca1ee",
   "metadata": {},
   "outputs": [],
   "source": [
    "from sklearn.mixture import GaussianMixture"
   ]
  },
  {
   "cell_type": "code",
   "execution_count": 56,
   "id": "f7db30bc",
   "metadata": {},
   "outputs": [],
   "source": [
    "y_gauss = GaussianMixture(n_components=3, random_state=42,).fit(X).predict(X)"
   ]
  },
  {
   "cell_type": "code",
   "execution_count": 57,
   "id": "d79ede62",
   "metadata": {},
   "outputs": [
    {
     "data": {
      "text/plain": [
       "array([1, 1, 1, 1, 1, 1, 1, 1, 0, 1, 1, 1, 1, 1, 1, 1, 1, 1, 1, 1, 1, 1,\n",
       "       1, 1, 1, 1, 1, 1, 1, 1, 1, 1, 1, 1, 1, 1, 1, 1, 1, 1, 1, 1, 1, 0,\n",
       "       1, 1, 1, 1, 1, 1, 1, 1, 1, 1, 1, 1, 1, 1, 1, 1, 1, 1, 1, 1, 1, 1,\n",
       "       1, 1, 1, 2, 0, 0, 0, 0, 0, 0, 0, 0, 0, 0, 0, 0, 0, 0, 0, 0, 0, 0,\n",
       "       0, 0, 0, 0, 0, 0, 0, 0, 0, 0, 0, 0, 0, 0, 0, 0, 0, 0, 0, 0, 0, 0,\n",
       "       0, 0, 0, 0, 0, 0, 0, 0, 0, 0, 0, 0, 0, 0, 1, 0, 0, 0, 0, 0, 0, 0,\n",
       "       0, 0, 0, 1, 0, 0, 0, 0, 2, 2, 2, 2, 2, 2, 2, 2, 2, 2, 2, 2, 2, 2,\n",
       "       2, 2, 2, 2, 2, 2, 2, 2, 2, 2, 2, 2, 2, 2, 2, 2, 2, 2, 2, 2, 2, 2,\n",
       "       2, 2, 2, 2, 2, 2, 2, 2, 2, 2, 2, 2, 2, 2, 2, 2, 2, 2, 2, 2, 2, 1,\n",
       "       2, 1, 2, 1, 2, 2, 2, 1, 2, 2, 2, 2], dtype=int64)"
      ]
     },
     "execution_count": 57,
     "metadata": {},
     "output_type": "execute_result"
    }
   ],
   "source": [
    "y_gauss"
   ]
  },
  {
   "cell_type": "code",
   "execution_count": 66,
   "id": "bdc891ff",
   "metadata": {},
   "outputs": [
    {
     "name": "stdout",
     "output_type": "stream",
     "text": [
      "[0]\n",
      "[1]\n",
      "[2]\n"
     ]
    },
    {
     "data": {
      "text/plain": [
       "{0: 0, 1: 1, 2: 2}"
      ]
     },
     "execution_count": 66,
     "metadata": {},
     "output_type": "execute_result"
    }
   ],
   "source": [
    "from scipy import stats\n",
    "mapping = {}\n",
    "for class_id in np.unique(y_gauss):\n",
    "    mode, _, = stats.mode(y_gauss[y_gauss==class_id])\n",
    "    print(mode)\n",
    "    mapping[mode[0]] = class_id\n",
    "mapping"
   ]
  },
  {
   "cell_type": "code",
   "execution_count": 63,
   "id": "fa58a579",
   "metadata": {},
   "outputs": [
    {
     "data": {
      "text/plain": [
       "array([0, 1, 2], dtype=int64)"
      ]
     },
     "execution_count": 63,
     "metadata": {},
     "output_type": "execute_result"
    }
   ],
   "source": [
    "np.unique(y_gauss)"
   ]
  },
  {
   "cell_type": "code",
   "execution_count": 67,
   "id": "a3d59ace",
   "metadata": {
    "scrolled": true
   },
   "outputs": [
    {
     "data": {
      "text/plain": [
       "array([1, 1, 1, 1, 1, 1, 1, 1, 0, 1, 1, 1, 1, 1, 1, 1, 1, 1, 1, 1, 1, 1,\n",
       "       1, 1, 1, 1, 1, 1, 1, 1, 1, 1, 1, 1, 1, 1, 1, 1, 1, 1, 1, 1, 1, 0,\n",
       "       1, 1, 1, 1, 1, 1, 1, 1, 1, 1, 1, 1, 1, 1, 1, 1, 1, 1, 1, 1, 1, 1,\n",
       "       1, 1, 1, 2, 0, 0, 0, 0, 0, 0, 0, 0, 0, 0, 0, 0, 0, 0, 0, 0, 0, 0,\n",
       "       0, 0, 0, 0, 0, 0, 0, 0, 0, 0, 0, 0, 0, 0, 0, 0, 0, 0, 0, 0, 0, 0,\n",
       "       0, 0, 0, 0, 0, 0, 0, 0, 0, 0, 0, 0, 0, 0, 1, 0, 0, 0, 0, 0, 0, 0,\n",
       "       0, 0, 0, 1, 0, 0, 0, 0, 2, 2, 2, 2, 2, 2, 2, 2, 2, 2, 2, 2, 2, 2,\n",
       "       2, 2, 2, 2, 2, 2, 2, 2, 2, 2, 2, 2, 2, 2, 2, 2, 2, 2, 2, 2, 2, 2,\n",
       "       2, 2, 2, 2, 2, 2, 2, 2, 2, 2, 2, 2, 2, 2, 2, 2, 2, 2, 2, 2, 2, 1,\n",
       "       2, 1, 2, 1, 2, 2, 2, 1, 2, 2, 2, 2], dtype=int64)"
      ]
     },
     "execution_count": 67,
     "metadata": {},
     "output_type": "execute_result"
    }
   ],
   "source": [
    "y_pred = np.array([mapping[cls] for cls in y_gauss])\n",
    "y_pred"
   ]
  },
  {
   "cell_type": "code",
   "execution_count": 69,
   "id": "11c87921",
   "metadata": {},
   "outputs": [
    {
     "data": {
      "text/plain": [
       "[<matplotlib.lines.Line2D at 0x29ca71c6460>]"
      ]
     },
     "execution_count": 69,
     "metadata": {},
     "output_type": "execute_result"
    },
    {
     "data": {
      "image/png": "[encoded data removed]",
      "text/plain": [
       "<Figure size 432x288 with 1 Axes>"
      ]
     },
     "metadata": {
      "needs_background": "light"
     },
     "output_type": "display_data"
    }
   ],
   "source": [
    "plt.plot(X[y_pred==0, 0], X[y_pred==0,1], 'yo', label='cluster1')\n",
    "plt.plot(X[y_pred==1, 0], X[y_pred==1,1], 'bs', label='cluster2')\n",
    "plt.plot(X[y_pred==2, 0], X[y_pred==2,1], 'g^', label='cluster3')"
   ]
  },
  {
   "cell_type": "code",
   "execution_count": 70,
   "id": "69d8a4a4",
   "metadata": {},
   "outputs": [
    {
     "data": {
      "text/plain": [
       "[<matplotlib.lines.Line2D at 0x29ca7220520>]"
      ]
     },
     "execution_count": 70,
     "metadata": {},
     "output_type": "execute_result"
    },
    {
     "data": {
      "image/png": "[encoded data removed]",
      "text/plain": [
       "<Figure size 432x288 with 1 Axes>"
      ]
     },
     "metadata": {
      "needs_background": "light"
     },
     "output_type": "display_data"
    }
   ],
   "source": [
    "plt.plot(X[y_pred==0, 0], X[y_pred==0,2], 'yo', label='cluster1')\n",
    "plt.plot(X[y_pred==1, 0], X[y_pred==1,2], 'bs', label='cluster2')\n",
    "plt.plot(X[y_pred==2, 0], X[y_pred==2,2], 'g^', label='cluster3')"
   ]
  },
  {
   "cell_type": "code",
   "execution_count": 73,
   "id": "21b3798b",
   "metadata": {},
   "outputs": [
    {
     "data": {
      "text/plain": [
       "[<matplotlib.lines.Line2D at 0x29ca71050a0>]"
      ]
     },
     "execution_count": 73,
     "metadata": {},
     "output_type": "execute_result"
    },
    {
     "data": {
      "image/png": "[encoded data removed]",
      "text/plain": [
       "<Figure size 432x288 with 1 Axes>"
      ]
     },
     "metadata": {
      "needs_background": "light"
     },
     "output_type": "display_data"
    }
   ],
   "source": [
    "plt.plot(X[y_pred==0, 1], X[y_pred==0,2], 'yo', label='cluster1')\n",
    "plt.plot(X[y_pred==1, 1], X[y_pred==1,2], 'bs', label='cluster2')\n",
    "plt.plot(X[y_pred==2, 1], X[y_pred==2,2], 'g^', label='cluster3')"
   ]
  },
  {
   "cell_type": "code",
   "execution_count": 75,
   "id": "1909e5d4",
   "metadata": {},
   "outputs": [
    {
     "data": {
      "text/plain": [
       "210"
      ]
     },
     "execution_count": 75,
     "metadata": {},
     "output_type": "execute_result"
    }
   ],
   "source": [
    "np.sum(y_pred==y_gauss)"
   ]
  },
  {
   "cell_type": "code",
   "execution_count": null,
   "id": "7979b71e",
   "metadata": {},
   "outputs": [],
   "source": []
  }
 ],
 "metadata": {
  "kernelspec": {
   "display_name": "Python 3.9.12 ('base')",
   "language": "python",
   "name": "python3"
  },
  "language_info": {
   "codemirror_mode": {
    "name": "ipython",
    "version": 3
   },
   "file_extension": ".py",
   "mimetype": "text/x-python",
   "name": "python",
   "nbconvert_exporter": "python",
   "pygments_lexer": "ipython3",
   "version": "3.9.12"
  },
  "vscode": {
   "interpreter": {
    "hash": "7679c2132d3f6ce38c9df14d554b39c06862b36a4e6689c81f9ae15bd0911d7d"
   }
  }
 },
 "nbformat": 4,
 "nbformat_minor": 5
}
